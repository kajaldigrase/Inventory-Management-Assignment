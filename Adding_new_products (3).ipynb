{
  "nbformat": 4,
  "nbformat_minor": 0,
  "metadata": {
    "colab": {
      "name": "Adding new products.ipynb",
      "provenance": []
    },
    "kernelspec": {
      "name": "python3",
      "display_name": "Python 3"
    },
    "language_info": {
      "name": "python"
    }
  },
  "cells": [
    {
      "cell_type": "code",
      "metadata": {
        "id": "Qs9g74cXDszC"
      },
      "source": [
        "fd=open(\"record.json\",\"r\");\n",
        "r=fd.read();\n",
        "fd.close();"
      ],
      "execution_count": 90,
      "outputs": []
    },
    {
      "cell_type": "code",
      "metadata": {
        "colab": {
          "base_uri": "https://localhost:8080/",
          "height": 171
        },
        "id": "vlRBYb2YGZAg",
        "outputId": "d6c3e85d-c6b4-48cf-e0d7-710043f121cc"
      },
      "source": [
        "r"
      ],
      "execution_count": 91,
      "outputs": [
        {
          "output_type": "execute_result",
          "data": {
            "application/vnd.google.colaboratory.intrinsic+json": {
              "type": "string"
            },
            "text/plain": [
              "'{\"118920\": {\"name\": \"kitkat\", \"price\": 10, \"itemcount\": 30, \"type\": \"chocolate\"}, \"118921\": {\"name\": \"dairymilk\", \"price\": 5, \"itemcount\": 45, \"type\": \"chocolate\"}, \"118922\": {\"name\": \"chips\", \"price\": 20, \"itemcount\": 40, \"type\": \"wapours\"}, \"118923\": {\"name\": \"kurkure\", \"price\": 10, \"itemcount\": 25, \"type\": \"wapours\"}, \"118924\": {\"name\": \"20-20\", \"price\": 5, \"itemcount\": 35, \"type\": \"biscuts\"}, \"118925\": {\"name\": \"parle-G\", \"price\": 40, \"itemcount\": 50, \"type\": \"biscuts\"}, \"118926\": {\"name\": \"kitkat\", \"price\": 25, \"itemcount\": 100, \"type\": \"chocolate\"}, \"118927\": {\"name\": \"pen\", \"price\": 20, \"itemcount\": 30, \"type\": \"pen\"}, \"118928\": {\"name\": \"pencil\", \"price\": 5, \"itemcount\": 36, \"type\": \"pencil\"}, \"118929\": {\"name\": \"notebook\", \"price\": 60, \"itemcount\": 42, \"type\": \"books\"}, \"118930\": {\"name\": \"coca-cola\", \"price\": 50, \"itemcount\": 70, \"type\": \"drink\"}, \"118931\": {\"name\": \"stickers\", \"price\": \"20\", \"itemcount\": 50, \"type\": \"decoration\"}, \"118932\": {\"name\": \"samsung-mobile\", \"price\": \"15000\", \"itemcount\": 50, \"type\": \"mobile\"}, \"118934\": {\"name\": \"redmi-mobile\", \"price\": \"20000\", \"itemcount\": 40, \"type\": \"mobile\"}, \"118941\": {\"name\": \"earaser\", \"price\": \"5\", \"itemcount\": 100, \"type\": \"stationary\"}, \"118950\": {\"name\": \"candy\", \"price\": \"10\", \"itemcount\": 200, \"type\": \"food\"}, \"118935\": {\"name\": \"practical-book\", \"price\": \"30\", \"itemcount\": 100, \"type\": \"stationary\"}, \"118936\": {\"name\": \"kaju\", \"price\": \"500\", \"itemcount\": 200, \"type\": \"dry-fruits\"}, \"118937\": {\"name\": \"badam\", \"price\": \"400\", \"itemcount\": 300, \"type\": \"dry-fruits\"}, \"118938\": {\"name\": \"pista\", \"price\": \"600\", \"itemcount\": 100, \"type\": \"dry-fruits\"}, \"118939\": {\"name\": \"compass\", \"price\": \"30\", \"itemcount\": 120, \"type\": \"stationary\"}, \"118940\": {\"name\": \"oil\", \"price\": \"200\", \"itemcount\": 500, \"type\": \"food\"}, \"118942\": {\"name\": \"practical-pages\", \"price\": \"2\", \"itemcount\": 500, \"type\": \"stationary\"}, \"118943\": {\"name\": \"black-pen\", \"price\": \"20\", \"itemcount\": 300, \"type\": \"stationary\"}, \"118944\": {\"name\": \"pencil\", \"price\": \"30\", \"itemcount\": 500, \"type\": \"stationary\"}, \"118945\": {\"name\": \"redmi-mobile\", \"price\": \"30000\", \"itemcount\": 100, \"type\": \"mobile\"}, \"118946\": {\"name\": \"drawing\", \"price\": \"50\", \"itemcount\": 100, \"type\": \"book\"}, \"118947\": {\"name\": \"candy\", \"price\": \"50\", \"itemcount\": 100, \"type\": \"food\"}, \"118948\": {\"name\": \"5star\", \"price\": \"30\", \"itemcount\": 400, \"type\": \"chocolate\"}, \"118949\": {\"name\": \"fevistick\", \"price\": \"5\", \"itemcount\": 200, \"type\": \"stationary\"}, \"118933\": {\"name\": \"coca-cola\", \"price\": \"100\", \"itemcount\": 500, \"type\": \"drinks\"}}'"
            ]
          },
          "metadata": {},
          "execution_count": 91
        }
      ]
    },
    {
      "cell_type": "code",
      "metadata": {
        "id": "yT0wvzaZMGkm",
        "colab": {
          "base_uri": "https://localhost:8080/"
        },
        "outputId": "746e17a7-865b-42ec-d00c-db0422ef6d4d"
      },
      "source": [
        "import json;\n",
        "record=json.loads(r);\n",
        "\n",
        "\n",
        "product_id=str(input(\"Enter the product id: \"));\n",
        "count=0;\n",
        "for i in record:\n",
        "  if (i==(product_id)):\n",
        "    count+=1;\n",
        "  else:\n",
        "    pass\n",
        "\n",
        "if (count==1):\n",
        "    print(\"product is allready in the record file with id\",product_id);\n",
        "    print(\"product details is\",record[product_id]);\n",
        "    itemcount=int(input(\"Enter product qunatity: \"));\n",
        "    record[product_id]={\"name\":record[product_id]['name'],\"price\":record[product_id]['price'],\"itemcount\":(record[product_id]['itemcount'])+itemcount,\"type\":record[product_id]['type']};\n",
        "    print(record[product_id])\n",
        "else:\n",
        "    name=str(input(\"Enter the name of product: \"));\n",
        "    price=int(input(\"Enter the price : \"));\n",
        "    itemcount=int(input(\"Enter product qunatity: \"));\n",
        "    product_type=str(input(\"Enter the product type: \"));\n",
        "    record[product_id]={\"name\":name,\"price\":price,\"itemcount\":itemcount,\"type\":product_type};\n",
        "    print(record[product_id])\n",
        "\n",
        "\n",
        "\n",
        "js=json.dumps(record);\n",
        "\n",
        "fd=open(\"record.json\",\"w\");\n",
        "fd.write(js);\n",
        "fd.close();\n"
      ],
      "execution_count": 94,
      "outputs": [
        {
          "output_type": "stream",
          "name": "stdout",
          "text": [
            "Enter the product id: 118920\n",
            "product is allready in the record file with id 118920\n",
            "product details is {'name': 'kitkat', 'price': 10, 'itemcount': 30, 'type': 'chocolate'}\n",
            "Enter product qunatity: 10\n",
            "{'name': 'kitkat', 'price': 10, 'itemcount': 40, 'type': 'chocolate'}\n"
          ]
        }
      ]
    },
    {
      "cell_type": "code",
      "metadata": {
        "colab": {
          "base_uri": "https://localhost:8080/"
        },
        "id": "R-aWA4O5wYDY",
        "outputId": "e7febfcb-d7be-4678-94f1-26520c5e396d"
      },
      "source": [
        "record"
      ],
      "execution_count": 93,
      "outputs": [
        {
          "output_type": "execute_result",
          "data": {
            "text/plain": [
              "{'118920': {'itemcount': 30,\n",
              "  'name': 'kitkat',\n",
              "  'price': 10,\n",
              "  'type': 'chocolate'},\n",
              " '118921': {'itemcount': 45,\n",
              "  'name': 'dairymilk',\n",
              "  'price': 5,\n",
              "  'type': 'chocolate'},\n",
              " '118922': {'itemcount': 40, 'name': 'chips', 'price': 20, 'type': 'wapours'},\n",
              " '118923': {'itemcount': 25,\n",
              "  'name': 'kurkure',\n",
              "  'price': 10,\n",
              "  'type': 'wapours'},\n",
              " '118924': {'itemcount': 35, 'name': '20-20', 'price': 5, 'type': 'biscuts'},\n",
              " '118925': {'itemcount': 50,\n",
              "  'name': 'parle-G',\n",
              "  'price': 40,\n",
              "  'type': 'biscuts'},\n",
              " '118926': {'itemcount': 100,\n",
              "  'name': 'kitkat',\n",
              "  'price': 25,\n",
              "  'type': 'chocolate'},\n",
              " '118927': {'itemcount': 30, 'name': 'pen', 'price': 20, 'type': 'pen'},\n",
              " '118928': {'itemcount': 36, 'name': 'pencil', 'price': 5, 'type': 'pencil'},\n",
              " '118929': {'itemcount': 42, 'name': 'notebook', 'price': 60, 'type': 'books'},\n",
              " '118930': {'itemcount': 70,\n",
              "  'name': 'coca-cola',\n",
              "  'price': 50,\n",
              "  'type': 'drink'},\n",
              " '118931': {'itemcount': 50,\n",
              "  'name': 'stickers',\n",
              "  'price': '20',\n",
              "  'type': 'decoration'},\n",
              " '118932': {'itemcount': 50,\n",
              "  'name': 'samsung-mobile',\n",
              "  'price': '15000',\n",
              "  'type': 'mobile'},\n",
              " '118933': {'itemcount': 500,\n",
              "  'name': 'coca-cola',\n",
              "  'price': '100',\n",
              "  'type': 'drinks'},\n",
              " '118934': {'itemcount': 40,\n",
              "  'name': 'redmi-mobile',\n",
              "  'price': '20000',\n",
              "  'type': 'mobile'},\n",
              " '118935': {'itemcount': 100,\n",
              "  'name': 'practical-book',\n",
              "  'price': '30',\n",
              "  'type': 'stationary'},\n",
              " '118936': {'itemcount': 250,\n",
              "  'name': 'kaju',\n",
              "  'price': '500',\n",
              "  'type': 'dry-fruits'},\n",
              " '118937': {'itemcount': 300,\n",
              "  'name': 'badam',\n",
              "  'price': '400',\n",
              "  'type': 'dry-fruits'},\n",
              " '118938': {'itemcount': 100,\n",
              "  'name': 'pista',\n",
              "  'price': '600',\n",
              "  'type': 'dry-fruits'},\n",
              " '118939': {'itemcount': 120,\n",
              "  'name': 'compass',\n",
              "  'price': '30',\n",
              "  'type': 'stationary'},\n",
              " '118940': {'itemcount': 500, 'name': 'oil', 'price': '200', 'type': 'food'},\n",
              " '118941': {'itemcount': 100,\n",
              "  'name': 'earaser',\n",
              "  'price': '5',\n",
              "  'type': 'stationary'},\n",
              " '118942': {'itemcount': 500,\n",
              "  'name': 'practical-pages',\n",
              "  'price': '2',\n",
              "  'type': 'stationary'},\n",
              " '118943': {'itemcount': 300,\n",
              "  'name': 'black-pen',\n",
              "  'price': '20',\n",
              "  'type': 'stationary'},\n",
              " '118944': {'itemcount': 500,\n",
              "  'name': 'pencil',\n",
              "  'price': '30',\n",
              "  'type': 'stationary'},\n",
              " '118945': {'itemcount': 100,\n",
              "  'name': 'redmi-mobile',\n",
              "  'price': '30000',\n",
              "  'type': 'mobile'},\n",
              " '118946': {'itemcount': 100,\n",
              "  'name': 'drawing',\n",
              "  'price': '50',\n",
              "  'type': 'book'},\n",
              " '118947': {'itemcount': 100, 'name': 'candy', 'price': '50', 'type': 'food'},\n",
              " '118948': {'itemcount': 400,\n",
              "  'name': '5star',\n",
              "  'price': '30',\n",
              "  'type': 'chocolate'},\n",
              " '118949': {'itemcount': 200,\n",
              "  'name': 'fevistick',\n",
              "  'price': '5',\n",
              "  'type': 'stationary'},\n",
              " '118950': {'itemcount': 200, 'name': 'candy', 'price': '10', 'type': 'food'}}"
            ]
          },
          "metadata": {},
          "execution_count": 93
        }
      ]
    }
  ]
}