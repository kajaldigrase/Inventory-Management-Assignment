{
  "nbformat": 4,
  "nbformat_minor": 0,
  "metadata": {
    "colab": {
      "name": "Purchasing products.ipynb",
      "provenance": []
    },
    "kernelspec": {
      "name": "python3",
      "display_name": "Python 3"
    },
    "language_info": {
      "name": "python"
    }
  },
  "cells": [
    {
      "cell_type": "code",
      "metadata": {
        "id": "Py9yyTq1p8Oq"
      },
      "source": [
        "fd=open(\"record.json\",\"r\");\n",
        "r=fd.read();\n",
        "fd.close();"
      ],
      "execution_count": 147,
      "outputs": []
    },
    {
      "cell_type": "code",
      "metadata": {
        "colab": {
          "base_uri": "https://localhost:8080/",
          "height": 171
        },
        "id": "mXES-SYQwRqo",
        "outputId": "8ee8a834-04f6-4fe4-cd08-f745f80c2213"
      },
      "source": [
        "r"
      ],
      "execution_count": 148,
      "outputs": [
        {
          "output_type": "execute_result",
          "data": {
            "application/vnd.google.colaboratory.intrinsic+json": {
              "type": "string"
            },
            "text/plain": [
              "'{\"118920\": {\"name\": \"kitkat\", \"price\": 10, \"itemcount\": 30, \"type\": \"chocolate\"}, \"118921\": {\"name\": \"dairymilk\", \"price\": 5, \"itemcount\": 45, \"type\": \"chocolate\"}, \"118922\": {\"name\": \"chips\", \"price\": 20, \"itemcount\": 40, \"type\": \"wapours\"}, \"118923\": {\"name\": \"kurkure\", \"price\": 10, \"itemcount\": 25, \"type\": \"wapours\"}, \"118924\": {\"name\": \"20-20\", \"price\": 5, \"itemcount\": 35, \"type\": \"biscuts\"}, \"118925\": {\"name\": \"parle-G\", \"price\": 40, \"itemcount\": 50, \"type\": \"biscuts\"}, \"118926\": {\"name\": \"kitkat\", \"price\": 25, \"itemcount\": 100, \"type\": \"chocolate\"}, \"118927\": {\"name\": \"pen\", \"price\": 20, \"itemcount\": 30, \"type\": \"pen\"}, \"118928\": {\"name\": \"pencil\", \"price\": 5, \"itemcount\": 36, \"type\": \"pencil\"}, \"118929\": {\"name\": \"notebook\", \"price\": 60, \"itemcount\": 42, \"type\": \"books\"}, \"118930\": {\"name\": \"coca-cola\", \"price\": 50, \"itemcount\": 70, \"type\": \"drink\"}, \"118931\": {\"name\": \"stickers\", \"price\": 20, \"itemcount\": 50, \"type\": \"decoration\"}, \"118932\": {\"name\": \"samsung-mobile\", \"price\": 15000, \"itemcount\": 50, \"type\": \"mobile\"}, \"118934\": {\"name\": \"redmi-mobile\", \"price\": 20000, \"itemcount\": 40, \"type\": \"mobile\"}, \"118941\": {\"name\": \"earaser\", \"price\": 5, \"itemcount\": 100, \"type\": \"stationary\"}, \"118950\": {\"name\": \"candy\", \"price\": 10, \"itemcount\": 200, \"type\": \"food\"}, \"118935\": {\"name\": \"practical-book\", \"price\": 30, \"itemcount\": 100, \"type\": \"stationary\"}, \"118936\": {\"name\": \"kaju\", \"price\": 500, \"itemcount\": 250, \"type\": \"dry-fruits\"}, \"118937\": {\"name\": \"badam\", \"price\": 400, \"itemcount\": 300, \"type\": \"dry-fruits\"}, \"118938\": {\"name\": \"pista\", \"price\": 600, \"itemcount\": 100, \"type\": \"dry-fruits\"}, \"118939\": {\"name\": \"compass\", \"price\": 30, \"itemcount\": 120, \"type\": \"stationary\"}, \"118940\": {\"name\": \"oil\", \"price\": 200, \"itemcount\": 500, \"type\": \"food\"}, \"118942\": {\"name\": \"practical-pages\", \"price\": 2, \"itemcount\": 500, \"type\": \"stationary\"}, \"118943\": {\"name\": \"black-pen\", \"price\": 20, \"itemcount\": 300, \"type\": \"stationary\"}, \"118944\": {\"name\": \"pencil\", \"price\": 30, \"itemcount\": 500, \"type\": \"stationary\"}, \"118945\": {\"name\": \"redmi-mobile\", \"price\": 30000, \"itemcount\": 100, \"type\": \"mobile\"}, \"118946\": {\"name\": \"drawing\", \"price\": 50, \"itemcount\": 100, \"type\": \"book\"}, \"118947\": {\"name\": \"candy\", \"price\": 50, \"itemcount\": 100, \"type\": \"food\"}, \"118948\": {\"name\": \"5star\", \"price\": 30, \"itemcount\": 400, \"type\": \"chocolate\"}, \"118949\": {\"name\": \"fevistick\", \"price\": 5, \"itemcount\": 200, \"type\": \"stationary\"}, \"118933\": {\"name\": \"fizz\", \"price\": 100, \"itemcount\": 500, \"type\": \"drinks\"}}'"
            ]
          },
          "metadata": {},
          "execution_count": 148
        }
      ]
    },
    {
      "cell_type": "code",
      "metadata": {
        "colab": {
          "base_uri": "https://localhost:8080/"
        },
        "id": "ZOJe6yK8wcjw",
        "outputId": "4a961855-e1b1-4761-b1a4-1200384e7234"
      },
      "source": [
        "import json;\n",
        "record=json.loads(r);\n",
        "\n",
        "buyer=(input(\"Enter your name: \"))\n",
        "buyer_no=int(input(\"Enter your phone no: \"))\n",
        "ui_product=str(input(\"Enter the product Id : \"))\n",
        "ui_qu=int(input(\"enter the quantity : \"))\n",
        "\n",
        "if (ui_qu>record[ui_product][\"itemcount\"]):\n",
        "  print(\"avialable quantity is : \",record[ui_product][\"itemcount\"])\n",
        "  print(\"please purchase the product in available quantity\")\n",
        "  ui_qu=int(input(\"enter the quantity : \"))\n",
        "\n",
        "print(\"Product Name:\", record[ui_product][\"name\"])\n",
        "print(\"Price:\", record[ui_product][\"price\"])\n",
        "print(\"Billing Amount : \",(record[ui_product][\"price\"])*(ui_qu))\n",
        "\n",
        "record[ui_product][\"itemcount\"]=record[ui_product][\"itemcount\"]-ui_qu;\n"
      ],
      "execution_count": 288,
      "outputs": [
        {
          "output_type": "stream",
          "name": "stdout",
          "text": [
            "Enter your name: ramesh\n",
            "Enter your phone no: 8768\n",
            "Enter the product Id : 118925\n",
            "enter the quantity : 10\n",
            "Product Name: parle-G\n",
            "Price: 40\n",
            "Billing Amount :  400\n"
          ]
        }
      ]
    },
    {
      "cell_type": "code",
      "metadata": {
        "id": "J0PNGpSd0s-D"
      },
      "source": [
        "js=json.dumps(record)\n",
        "\n",
        "fd=open(\"record.json\",\"w\")\n",
        "fd.write(js)\n",
        "fd.close()"
      ],
      "execution_count": 289,
      "outputs": []
    },
    {
      "cell_type": "code",
      "metadata": {
        "colab": {
          "base_uri": "https://localhost:8080/",
          "height": 171
        },
        "id": "Vcwse1NI1_M4",
        "outputId": "3cec972b-1573-4069-e022-9464d9e2ce33"
      },
      "source": [
        "fd=open(\"record.json\",\"r\");\n",
        "r=fd.read();\n",
        "fd.close();\n",
        "r"
      ],
      "execution_count": 290,
      "outputs": [
        {
          "output_type": "execute_result",
          "data": {
            "application/vnd.google.colaboratory.intrinsic+json": {
              "type": "string"
            },
            "text/plain": [
              "'{\"118920\": {\"name\": \"kitkat\", \"price\": 10, \"itemcount\": 26, \"type\": \"chocolate\"}, \"118921\": {\"name\": \"dairymilk\", \"price\": 5, \"itemcount\": 35, \"type\": \"chocolate\"}, \"118922\": {\"name\": \"chips\", \"price\": 20, \"itemcount\": 40, \"type\": \"wapours\"}, \"118923\": {\"name\": \"kurkure\", \"price\": 10, \"itemcount\": 14, \"type\": \"wapours\"}, \"118924\": {\"name\": \"20-20\", \"price\": 5, \"itemcount\": 35, \"type\": \"biscuts\"}, \"118925\": {\"name\": \"parle-G\", \"price\": 40, \"itemcount\": 40, \"type\": \"biscuts\"}, \"118926\": {\"name\": \"kitkat\", \"price\": 25, \"itemcount\": 100, \"type\": \"chocolate\"}, \"118927\": {\"name\": \"pen\", \"price\": 20, \"itemcount\": 30, \"type\": \"pen\"}, \"118928\": {\"name\": \"pencil\", \"price\": 5, \"itemcount\": 36, \"type\": \"pencil\"}, \"118929\": {\"name\": \"notebook\", \"price\": 60, \"itemcount\": 38, \"type\": \"books\"}, \"118930\": {\"name\": \"coca-cola\", \"price\": 50, \"itemcount\": 67, \"type\": \"drink\"}, \"118931\": {\"name\": \"stickers\", \"price\": 20, \"itemcount\": 46, \"type\": \"decoration\"}, \"118932\": {\"name\": \"samsung-mobile\", \"price\": 15000, \"itemcount\": 44, \"type\": \"mobile\"}, \"118934\": {\"name\": \"redmi-mobile\", \"price\": 20000, \"itemcount\": 40, \"type\": \"mobile\"}, \"118941\": {\"name\": \"earaser\", \"price\": 5, \"itemcount\": 100, \"type\": \"stationary\"}, \"118950\": {\"name\": \"candy\", \"price\": 10, \"itemcount\": 196, \"type\": \"food\"}, \"118935\": {\"name\": \"practical-book\", \"price\": 30, \"itemcount\": 90, \"type\": \"stationary\"}, \"118936\": {\"name\": \"kaju\", \"price\": 500, \"itemcount\": 249, \"type\": \"dry-fruits\"}, \"118937\": {\"name\": \"badam\", \"price\": 400, \"itemcount\": 283, \"type\": \"dry-fruits\"}, \"118938\": {\"name\": \"pista\", \"price\": 600, \"itemcount\": 100, \"type\": \"dry-fruits\"}, \"118939\": {\"name\": \"compass\", \"price\": 30, \"itemcount\": 120, \"type\": \"stationary\"}, \"118940\": {\"name\": \"oil\", \"price\": 200, \"itemcount\": 500, \"type\": \"food\"}, \"118942\": {\"name\": \"practical-pages\", \"price\": 2, \"itemcount\": 491, \"type\": \"stationary\"}, \"118943\": {\"name\": \"black-pen\", \"price\": 20, \"itemcount\": 300, \"type\": \"stationary\"}, \"118944\": {\"name\": \"pencil\", \"price\": 30, \"itemcount\": 492, \"type\": \"stationary\"}, \"118945\": {\"name\": \"redmi-mobile\", \"price\": 30000, \"itemcount\": 97, \"type\": \"mobile\"}, \"118946\": {\"name\": \"drawing\", \"price\": 50, \"itemcount\": 100, \"type\": \"book\"}, \"118947\": {\"name\": \"candy\", \"price\": 50, \"itemcount\": 100, \"type\": \"food\"}, \"118948\": {\"name\": \"5star\", \"price\": 30, \"itemcount\": 395, \"type\": \"chocolate\"}, \"118949\": {\"name\": \"fevistick\", \"price\": 5, \"itemcount\": 200, \"type\": \"stationary\"}, \"118933\": {\"name\": \"fizz\", \"price\": 100, \"itemcount\": 497, \"type\": \"drinks\"}}'"
            ]
          },
          "metadata": {},
          "execution_count": 290
        }
      ]
    },
    {
      "cell_type": "code",
      "metadata": {
        "id": "MaW7w-xj_-x5"
      },
      "source": [
        "sales={}"
      ],
      "execution_count": 153,
      "outputs": []
    },
    {
      "cell_type": "code",
      "metadata": {
        "id": "7cHroxC82ouE"
      },
      "source": [
        "\n",
        "sales[(len(sales)+1)]={\"product_id\":ui_product,\"name\":record[ui_product][\"name\"],\"price\":record[ui_product][\"price\"],\"buyer\":buyer,\"buyer_no\":buyer_no}"
      ],
      "execution_count": 291,
      "outputs": []
    },
    {
      "cell_type": "code",
      "metadata": {
        "colab": {
          "base_uri": "https://localhost:8080/"
        },
        "id": "gqxxZc-7LNmR",
        "outputId": "4e4dda0c-c383-4d5a-e073-b3b4295a2822"
      },
      "source": [
        "sales"
      ],
      "execution_count": 292,
      "outputs": [
        {
          "output_type": "execute_result",
          "data": {
            "text/plain": [
              "{1: {'buyer': 'rajesh',\n",
              "  'buyer_no': 8877,\n",
              "  'name': 'coca-cola',\n",
              "  'price': 50,\n",
              "  'product_id': '118930'},\n",
              " 2: {'buyer': 'sakshi',\n",
              "  'buyer_no': 5566,\n",
              "  'name': 'kurkure',\n",
              "  'price': 10,\n",
              "  'product_id': '118923'},\n",
              " 3: {'buyer': 'komal',\n",
              "  'buyer_no': 9933,\n",
              "  'name': 'redmi-mobile',\n",
              "  'price': 30000,\n",
              "  'product_id': '118945'},\n",
              " 4: {'buyer': 'kunal',\n",
              "  'buyer_no': 9876,\n",
              "  'name': 'candy',\n",
              "  'price': 10,\n",
              "  'product_id': '118950'},\n",
              " 5: {'buyer': 'lokesh',\n",
              "  'buyer_no': 6543,\n",
              "  'name': 'notebook',\n",
              "  'price': 60,\n",
              "  'product_id': '118929'},\n",
              " 6: {'buyer': 'sanket',\n",
              "  'buyer_no': 7219,\n",
              "  'name': 'badam',\n",
              "  'price': 400,\n",
              "  'product_id': '118937'},\n",
              " 7: {'buyer': 'chintu',\n",
              "  'buyer_no': 8457,\n",
              "  'name': 'redmi-mobile',\n",
              "  'price': 30000,\n",
              "  'product_id': '118945'},\n",
              " 8: {'buyer': 'raju',\n",
              "  'buyer_no': 9860,\n",
              "  'name': 'pencil',\n",
              "  'price': 30,\n",
              "  'product_id': '118944'},\n",
              " 9: {'buyer': 'tanu',\n",
              "  'buyer_no': 4874,\n",
              "  'name': 'kaju',\n",
              "  'price': 500,\n",
              "  'product_id': '118936'},\n",
              " 10: {'buyer': 'ganesh',\n",
              "  'buyer_no': 9878,\n",
              "  'name': 'candy',\n",
              "  'price': 10,\n",
              "  'product_id': '118950'},\n",
              " 11: {'buyer': 'ram',\n",
              "  'buyer_no': 8778,\n",
              "  'name': 'dairymilk',\n",
              "  'price': 5,\n",
              "  'product_id': '118921'},\n",
              " 12: {'buyer': 'sham',\n",
              "  'buyer_no': 8787,\n",
              "  'name': '5star',\n",
              "  'price': 30,\n",
              "  'product_id': '118948'},\n",
              " 13: {'buyer': 'rekha',\n",
              "  'buyer_no': 8678,\n",
              "  'name': 'fizz',\n",
              "  'price': 100,\n",
              "  'product_id': '118933'},\n",
              " 14: {'buyer': 'hitesh',\n",
              "  'buyer_no': 8678,\n",
              "  'name': 'practical-pages',\n",
              "  'price': 2,\n",
              "  'product_id': '118942'},\n",
              " 15: {'buyer': 'tanishka',\n",
              "  'buyer_no': 8769,\n",
              "  'name': 'practical-book',\n",
              "  'price': 30,\n",
              "  'product_id': '118935'},\n",
              " 16: {'buyer': 'om',\n",
              "  'buyer_no': 7988,\n",
              "  'name': 'badam',\n",
              "  'price': 400,\n",
              "  'product_id': '118937'},\n",
              " 17: {'buyer': 'samu',\n",
              "  'buyer_no': 9897,\n",
              "  'name': 'samsung-mobile',\n",
              "  'price': 15000,\n",
              "  'product_id': '118932'},\n",
              " 18: {'buyer': 'harshal',\n",
              "  'buyer_no': 6588,\n",
              "  'name': 'stickers',\n",
              "  'price': 20,\n",
              "  'product_id': '118931'},\n",
              " 19: {'buyer': 'tejas',\n",
              "  'buyer_no': 8687,\n",
              "  'name': 'kitkat',\n",
              "  'price': 10,\n",
              "  'product_id': '118920'},\n",
              " 20: {'buyer': 'ramesh',\n",
              "  'buyer_no': 8768,\n",
              "  'name': 'parle-G',\n",
              "  'price': 40,\n",
              "  'product_id': '118925'}}"
            ]
          },
          "metadata": {},
          "execution_count": 292
        }
      ]
    },
    {
      "cell_type": "code",
      "metadata": {
        "id": "3OsXF0A-4RZ5"
      },
      "source": [
        "sale=json.dumps(sales)\n",
        "\n",
        "fd=open(\"sales.json\",'w')\n",
        "fd.write(sale)\n",
        "fd.close()"
      ],
      "execution_count": 293,
      "outputs": []
    },
    {
      "cell_type": "code",
      "metadata": {
        "colab": {
          "base_uri": "https://localhost:8080/",
          "height": 171
        },
        "id": "Dbq1eVe142Eg",
        "outputId": "a18fd81b-b299-4031-ec78-42ccdfcd9ffb"
      },
      "source": [
        "fd=open(\"sales.json\",\"r\");\n",
        "s=fd.read();\n",
        "fd.close();\n",
        "s"
      ],
      "execution_count": 294,
      "outputs": [
        {
          "output_type": "execute_result",
          "data": {
            "application/vnd.google.colaboratory.intrinsic+json": {
              "type": "string"
            },
            "text/plain": [
              "'{\"1\": {\"product_id\": \"118930\", \"name\": \"coca-cola\", \"price\": 50, \"buyer\": \"rajesh\", \"buyer_no\": 8877}, \"2\": {\"product_id\": \"118923\", \"name\": \"kurkure\", \"price\": 10, \"buyer\": \"sakshi\", \"buyer_no\": 5566}, \"3\": {\"product_id\": \"118945\", \"name\": \"redmi-mobile\", \"price\": 30000, \"buyer\": \"komal\", \"buyer_no\": 9933}, \"4\": {\"product_id\": \"118950\", \"name\": \"candy\", \"price\": 10, \"buyer\": \"kunal\", \"buyer_no\": 9876}, \"5\": {\"product_id\": \"118929\", \"name\": \"notebook\", \"price\": 60, \"buyer\": \"lokesh\", \"buyer_no\": 6543}, \"6\": {\"product_id\": \"118937\", \"name\": \"badam\", \"price\": 400, \"buyer\": \"sanket\", \"buyer_no\": 7219}, \"7\": {\"product_id\": \"118945\", \"name\": \"redmi-mobile\", \"price\": 30000, \"buyer\": \"chintu\", \"buyer_no\": 8457}, \"8\": {\"product_id\": \"118944\", \"name\": \"pencil\", \"price\": 30, \"buyer\": \"raju\", \"buyer_no\": 9860}, \"9\": {\"product_id\": \"118936\", \"name\": \"kaju\", \"price\": 500, \"buyer\": \"tanu\", \"buyer_no\": 4874}, \"10\": {\"product_id\": \"118950\", \"name\": \"candy\", \"price\": 10, \"buyer\": \"ganesh\", \"buyer_no\": 9878}, \"11\": {\"product_id\": \"118921\", \"name\": \"dairymilk\", \"price\": 5, \"buyer\": \"ram\", \"buyer_no\": 8778}, \"12\": {\"product_id\": \"118948\", \"name\": \"5star\", \"price\": 30, \"buyer\": \"sham\", \"buyer_no\": 8787}, \"13\": {\"product_id\": \"118933\", \"name\": \"fizz\", \"price\": 100, \"buyer\": \"rekha\", \"buyer_no\": 8678}, \"14\": {\"product_id\": \"118942\", \"name\": \"practical-pages\", \"price\": 2, \"buyer\": \"hitesh\", \"buyer_no\": 8678}, \"15\": {\"product_id\": \"118935\", \"name\": \"practical-book\", \"price\": 30, \"buyer\": \"tanishka\", \"buyer_no\": 8769}, \"16\": {\"product_id\": \"118937\", \"name\": \"badam\", \"price\": 400, \"buyer\": \"om\", \"buyer_no\": 7988}, \"17\": {\"product_id\": \"118932\", \"name\": \"samsung-mobile\", \"price\": 15000, \"buyer\": \"samu\", \"buyer_no\": 9897}, \"18\": {\"product_id\": \"118931\", \"name\": \"stickers\", \"price\": 20, \"buyer\": \"harshal\", \"buyer_no\": 6588}, \"19\": {\"product_id\": \"118920\", \"name\": \"kitkat\", \"price\": 10, \"buyer\": \"tejas\", \"buyer_no\": 8687}, \"20\": {\"product_id\": \"118925\", \"name\": \"parle-G\", \"price\": 40, \"buyer\": \"ramesh\", \"buyer_no\": 8768}}'"
            ]
          },
          "metadata": {},
          "execution_count": 294
        }
      ]
    }
  ]
}